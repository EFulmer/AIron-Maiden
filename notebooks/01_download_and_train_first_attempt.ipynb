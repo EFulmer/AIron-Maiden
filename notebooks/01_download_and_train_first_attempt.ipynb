{
 "cells": [
  {
   "cell_type": "markdown",
   "metadata": {},
   "source": [
    "# First attempt at building a neural network to classify metal lyrics by band"
   ]
  },
  {
   "cell_type": "code",
   "execution_count": 1,
   "metadata": {},
   "outputs": [],
   "source": [
    "# import needed fastai modules\n",
    "import fastai\n",
    "import fastai.text"
   ]
  },
  {
   "cell_type": "code",
   "execution_count": 2,
   "metadata": {},
   "outputs": [
    {
     "data": {
      "text/plain": [
       "'/Users/eric/code/projects/metal-lyrics-classifier/notebooks'"
      ]
     },
     "execution_count": 2,
     "metadata": {},
     "output_type": "execute_result"
    }
   ],
   "source": [
    "# gotta set up training and validation sets\n",
    "# data all in data/ subdir of root project dir so check what pwd is first\n",
    "%pwd"
   ]
  },
  {
   "cell_type": "code",
   "execution_count": 3,
   "metadata": {},
   "outputs": [],
   "source": [
    "# get all the files, then shuffle, first 80% is training, last 20% is testing\n",
    "from random import shuffle\n",
    "from pathlib import Path\n",
    "\n",
    "root_data_dir = Path('../data/')\n",
    "lyric_files = list(root_data_dir.glob('lyrics_*.txt'))\n",
    "\n",
    "assert lyric_files\n",
    "\n",
    "shuffle(lyric_files)"
   ]
  },
  {
   "cell_type": "code",
   "execution_count": 4,
   "metadata": {},
   "outputs": [
    {
     "name": "stdout",
     "output_type": "stream",
     "text": [
      "642\n"
     ]
    }
   ],
   "source": [
    "print(len(lyric_files))"
   ]
  },
  {
   "cell_type": "code",
   "execution_count": 6,
   "metadata": {},
   "outputs": [],
   "source": [
    "train_set_size = round(0.80 * len(lyric_files))\n",
    "train_set = lyric_files[:train_set_size]\n",
    "valid_set = lyric_files[train_set_size:]\n",
    "assert len(train_set) + len(valid_set) == len(lyric_files)"
   ]
  },
  {
   "cell_type": "code",
   "execution_count": 8,
   "metadata": {},
   "outputs": [],
   "source": [
    "first_file = train_set[0]"
   ]
  },
  {
   "cell_type": "code",
   "execution_count": 13,
   "metadata": {},
   "outputs": [
    {
     "data": {
      "text/plain": [
       "PosixPath(\"../data/train/lyrics_dragonforce_you'renotalone.txt\")"
      ]
     },
     "execution_count": 13,
     "metadata": {},
     "output_type": "execute_result"
    }
   ],
   "source": [
    "first_file.parent / 'train'\n",
    "first_file.parent / 'train' / first_file.name"
   ]
  },
  {
   "cell_type": "code",
   "execution_count": 20,
   "metadata": {},
   "outputs": [],
   "source": [
    "import shutil\n",
    "import subprocess\n",
    "\n",
    "train_set_dir = train_set[0].parent / 'train'\n",
    "valid_set_dir = valid_set[0].parent / 'valid'\n",
    "\n",
    "subprocess.call(['mkdir', train_set_dir, valid_set_dir])\n",
    "\n",
    "for file in train_set:\n",
    "    shutil.copy(file, train_set_dir)\n",
    "\n",
    "for file in valid_set:\n",
    "    shutil.copy(file, valid_set_dir)"
   ]
  },
  {
   "cell_type": "code",
   "execution_count": 21,
   "metadata": {},
   "outputs": [
    {
     "name": "stdout",
     "output_type": "stream",
     "text": [
      "514\n",
      "128\n",
      "642\n"
     ]
    }
   ],
   "source": [
    "root_dir_size = len(list(root_data_dir.glob('*.txt')))\n",
    "train_set_size = len(list((root_data_dir / 'train').glob('*.txt')))\n",
    "valid_set_size = len(list((root_data_dir / 'valid').glob('*.txt')))\n",
    "print(train_set_size)\n",
    "print(valid_set_size)\n",
    "print(root_dir_size)\n",
    "assert train_set_size + valid_set_size == root_dir_size"
   ]
  },
  {
   "cell_type": "code",
   "execution_count": 36,
   "metadata": {},
   "outputs": [
    {
     "name": "stdout",
     "output_type": "stream",
     "text": [
      "['lyrics', 'ironmaiden', 'flightoficarus.txt']\n",
      "{'ironmaiden', 'blindguardian', 'motörhead', 'manillaroad', 'judaspriest', 'dragonforce', 'rainbow', 'thinlizzy', 'blacksabbath', 'metallica', 'ledzeppelin', 'megadeth', 'manowar'}\n"
     ]
    }
   ],
   "source": [
    "# for the classification model, the files have to be in subfolders with their classification\n",
    "# so data/classification/train/ironmaiden, etc.\n",
    "\n",
    "subprocess.call(['mkdir', '-p', '../data/classification/train', '../data/classification/valid'])\n",
    "\n",
    "all_lyric_files = list(Path('../data/').glob('lyrics_*.txt'))\n",
    "print(all_lyric_files[0].name.split('_'))\n",
    "all_classes = {file.name.split('_')[1] for file in all_lyric_files}\n",
    "print(all_classes)\n",
    "\n",
    "for class_ in all_classes:\n",
    "    subprocess.call(['mkdir', '-p', f'../data/classification/train/{class_}', f'../data/classification/valid/{class_}'])\n",
    "\n",
    "for file in train_set:\n",
    "    class_ = file.name.split('_')[1]\n",
    "    shutil.copy(file, f'../data/classification/train/{class_}')\n",
    "\n",
    "for file in valid_set:\n",
    "    class_ = file.name.split('_')[1]\n",
    "    shutil.copy(file, f'../data/classification/valid/{class_}')"
   ]
  },
  {
   "cell_type": "code",
   "execution_count": 39,
   "metadata": {},
   "outputs": [],
   "source": [
    "lyrics_data_bunch = fastai.text.TextClasDataBunch.from_folder(path='../data/classification/')"
   ]
  },
  {
   "cell_type": "code",
   "execution_count": 40,
   "metadata": {},
   "outputs": [
    {
     "data": {
      "text/plain": [
       "['blacksabbath',\n",
       " 'blindguardian',\n",
       " 'dragonforce',\n",
       " 'ironmaiden',\n",
       " 'judaspriest',\n",
       " 'ledzeppelin',\n",
       " 'manillaroad',\n",
       " 'manowar',\n",
       " 'megadeth',\n",
       " 'metallica',\n",
       " 'motörhead',\n",
       " 'rainbow',\n",
       " 'thinlizzy']"
      ]
     },
     "execution_count": 40,
     "metadata": {},
     "output_type": "execute_result"
    }
   ],
   "source": [
    "lyrics_data_bunch.classes"
   ]
  },
  {
   "cell_type": "code",
   "execution_count": 41,
   "metadata": {},
   "outputs": [],
   "source": [
    "lyrics_data_bunch.save()"
   ]
  },
  {
   "cell_type": "code",
   "execution_count": 42,
   "metadata": {},
   "outputs": [
    {
     "data": {
      "text/plain": [
       "PosixPath('/Users/eric/code/projects/metal-lyrics-classifier/notebooks/../data/classification')"
      ]
     },
     "execution_count": 42,
     "metadata": {},
     "output_type": "execute_result"
    }
   ],
   "source": [
    "lyrics_data_bunch.path"
   ]
  },
  {
   "cell_type": "code",
   "execution_count": 43,
   "metadata": {},
   "outputs": [
    {
     "data": {
      "text/html": [
       "<table>  <col width='90%'>  <col width='10%'>  <tr>\n",
       "    <th>text</th>\n",
       "    <th>target</th>\n",
       "  </tr>\n",
       "  <tr>\n",
       "    <th>xxbos xxmaj turn your head and see the fields of flame \\n \\n  xxmaj he carries along \\n  xxmaj from a distant place , he 's on his way \\n  xxmaj he 'll bring decay \\n  ( xxmaj do n't move along cause things they will go wrong \\n  xxmaj the end is getting closer day by day ) \\n  xxmaj in shades of</th>\n",
       "    <th>blindguardian</th>\n",
       "  </tr>\n",
       "  <tr>\n",
       "    <th>xxbos ( xxmaj xxunk ) \\n \\n  i xxup hector xxup xxunk xxup the xxup wall \\n  xxmaj see my chariot , run to your ships \\n  i 'll drive you back to the sea \\n  xxmaj you came here for gold , the wall will not hold \\n  xxmaj this day was promised to me \\n  xxmaj the xxmaj gods are my shield</th>\n",
       "    <th>manowar</th>\n",
       "  </tr>\n",
       "  <tr>\n",
       "    <th>xxbos xxmaj hear the xxunk of the ancient mariner \\n  xxmaj see his eye as he stops one of three \\n  xxmaj xxunk one of the wedding xxunk \\n  xxmaj stay here and listen to the nightmares of the sea \\n \\n  xxmaj and the music plays on , as the bride passes by \\n  xxmaj caught by his spell and the mariner tells his</th>\n",
       "    <th>ironmaiden</th>\n",
       "  </tr>\n",
       "  <tr>\n",
       "    <th>xxbos [ xxmaj verse 1 ] \\n  xxmaj are you a man of peace , or a man of holy war ? \\n  xxmaj too many xxunk to you , do n't know which anymore \\n  xxmaj so many full of life , but also filled with pain \\n  xxmaj do n't know just how many will live to breathe again \\n \\n  a life</th>\n",
       "    <th>ironmaiden</th>\n",
       "  </tr>\n",
       "  <tr>\n",
       "    <th>xxbos [ xxmaj verse 1 ] \\n  xxmaj in my time of dying \\n  i want nobody to mourn \\n  xxmaj all i want for you to do \\n  xxmaj is take my body home \\n \\n  [ xxmaj chorus ] \\n  xxmaj well , well , well \\n  xxmaj so i can die easy \\n  xxmaj well , well , well</th>\n",
       "    <th>ledzeppelin</th>\n",
       "  </tr>\n",
       "</table>\n"
      ],
      "text/plain": [
       "<IPython.core.display.HTML object>"
      ]
     },
     "metadata": {},
     "output_type": "display_data"
    }
   ],
   "source": [
    "lyrics_data_bunch.show_batch()"
   ]
  },
  {
   "cell_type": "code",
   "execution_count": 45,
   "metadata": {},
   "outputs": [],
   "source": [
    "learner = fastai.text.learner.text_classifier_learner(lyrics_data_bunch, fastai.text.models.AWD_LSTM, drop_mult=0.5)"
   ]
  },
  {
   "cell_type": "code",
   "execution_count": 48,
   "metadata": {},
   "outputs": [
    {
     "data": {
      "text/html": [],
      "text/plain": [
       "<IPython.core.display.HTML object>"
      ]
     },
     "metadata": {},
     "output_type": "display_data"
    },
    {
     "name": "stdout",
     "output_type": "stream",
     "text": [
      "LR Finder is complete, type {learner_name}.recorder.plot() to see the graph.\n"
     ]
    }
   ],
   "source": [
    "learner.lr_find()"
   ]
  },
  {
   "cell_type": "code",
   "execution_count": 49,
   "metadata": {},
   "outputs": [
    {
     "name": "stdout",
     "output_type": "stream",
     "text": [
      "Min numerical gradient: 2.75E-02\n"
     ]
    },
    {
     "data": {
      "image/png": "[encoded data removed]",
      "text/plain": [
       "<Figure size 432x288 with 1 Axes>"
      ]
     },
     "metadata": {
      "needs_background": "light"
     },
     "output_type": "display_data"
    }
   ],
   "source": [
    "learner.recorder.plot()"
   ]
  },
  {
   "cell_type": "code",
   "execution_count": 50,
   "metadata": {},
   "outputs": [
    {
     "data": {
      "text/html": [
       "Total time: 11:40 <p><table style='width:300px; margin-bottom:10px'>\n",
       "  <tr>\n",
       "    <th>epoch</th>\n",
       "    <th>train_loss</th>\n",
       "    <th>valid_loss</th>\n",
       "    <th>accuracy</th>\n",
       "  </tr>\n",
       "  <tr>\n",
       "    <th>1</th>\n",
       "    <th>2.624390</th>\n",
       "    <th>2.567732</th>\n",
       "    <th>0.062500</th>\n",
       "  </tr>\n",
       "</table>\n"
      ],
      "text/plain": [
       "<IPython.core.display.HTML object>"
      ]
     },
     "metadata": {},
     "output_type": "display_data"
    }
   ],
   "source": [
    "learner.fit_one_cycle(1, 2.75e-02)"
   ]
  },
  {
   "cell_type": "code",
   "execution_count": 51,
   "metadata": {},
   "outputs": [],
   "source": [
    "learner.save('first_1_epoch_with_10_bands')"
   ]
  },
  {
   "cell_type": "code",
   "execution_count": 52,
   "metadata": {},
   "outputs": [
    {
     "data": {
      "text/html": [
       "Total time: 10:40 <p><table style='width:300px; margin-bottom:10px'>\n",
       "  <tr>\n",
       "    <th>epoch</th>\n",
       "    <th>train_loss</th>\n",
       "    <th>valid_loss</th>\n",
       "    <th>accuracy</th>\n",
       "  </tr>\n",
       "  <tr>\n",
       "    <th>1</th>\n",
       "    <th>2.595696</th>\n",
       "    <th>2.561410</th>\n",
       "    <th>0.109375</th>\n",
       "  </tr>\n",
       "</table>\n"
      ],
      "text/plain": [
       "<IPython.core.display.HTML object>"
      ]
     },
     "metadata": {},
     "output_type": "display_data"
    }
   ],
   "source": [
    "learner.fit_one_cycle(1, 2.75e-02)"
   ]
  },
  {
   "cell_type": "code",
   "execution_count": 53,
   "metadata": {},
   "outputs": [],
   "source": [
    "learner.save('second_1_epoch_with_10_bands')"
   ]
  },
  {
   "cell_type": "code",
   "execution_count": 54,
   "metadata": {},
   "outputs": [
    {
     "data": {
      "text/html": [
       "Total time: 13:15 <p><table style='width:300px; margin-bottom:10px'>\n",
       "  <tr>\n",
       "    <th>epoch</th>\n",
       "    <th>train_loss</th>\n",
       "    <th>valid_loss</th>\n",
       "    <th>accuracy</th>\n",
       "  </tr>\n",
       "  <tr>\n",
       "    <th>1</th>\n",
       "    <th>2.510027</th>\n",
       "    <th>2.573487</th>\n",
       "    <th>0.101562</th>\n",
       "  </tr>\n",
       "</table>\n"
      ],
      "text/plain": [
       "<IPython.core.display.HTML object>"
      ]
     },
     "metadata": {},
     "output_type": "display_data"
    }
   ],
   "source": [
    "learner.fit_one_cycle(1, 2.75e-02)"
   ]
  },
  {
   "cell_type": "markdown",
   "metadata": {},
   "source": [
    "# Takeaway\n",
    "\n",
    "Wow, this isn't very good!\n",
    "\n",
    "Couple ideas:\n",
    "\n",
    "1. Train on a more powerful machine.\n",
    "2. Get larger data set.\n",
    "3. Get more classes."
   ]
  },
  {
   "cell_type": "code",
   "execution_count": null,
   "metadata": {},
   "outputs": [],
   "source": []
  }
 ],
 "metadata": {
  "kernelspec": {
   "display_name": "Python 3",
   "language": "python",
   "name": "python3"
  },
  "language_info": {
   "codemirror_mode": {
    "name": "ipython",
    "version": 3
   },
   "file_extension": ".py",
   "mimetype": "text/x-python",
   "name": "python",
   "nbconvert_exporter": "python",
   "pygments_lexer": "ipython3",
   "version": "3.7.0"
  }
 },
 "nbformat": 4,
 "nbformat_minor": 2
}
